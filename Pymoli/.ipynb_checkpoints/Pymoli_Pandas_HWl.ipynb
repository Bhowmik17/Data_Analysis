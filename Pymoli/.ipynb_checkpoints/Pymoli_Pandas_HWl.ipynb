{
 "cells": [
  {
   "cell_type": "code",
   "execution_count": 1,
   "metadata": {},
   "outputs": [],
   "source": [
    "#dependencies\n",
    "import pandas as pd\n",
    "import numpy as np"
   ]
  },
  {
   "cell_type": "code",
   "execution_count": 2,
   "metadata": {},
   "outputs": [],
   "source": [
    "#map to the path of data set\n",
    "data_file = \"purchase_data.csv\""
   ]
  },
  {
   "cell_type": "code",
   "execution_count": 3,
   "metadata": {
    "scrolled": true
   },
   "outputs": [
    {
     "data": {
      "text/html": [
       "<div>\n",
       "<style scoped>\n",
       "    .dataframe tbody tr th:only-of-type {\n",
       "        vertical-align: middle;\n",
       "    }\n",
       "\n",
       "    .dataframe tbody tr th {\n",
       "        vertical-align: top;\n",
       "    }\n",
       "\n",
       "    .dataframe thead th {\n",
       "        text-align: right;\n",
       "    }\n",
       "</style>\n",
       "<table border=\"1\" class=\"dataframe\">\n",
       "  <thead>\n",
       "    <tr style=\"text-align: right;\">\n",
       "      <th></th>\n",
       "      <th>Purchase ID</th>\n",
       "      <th>SN</th>\n",
       "      <th>Age</th>\n",
       "      <th>Gender</th>\n",
       "      <th>Item ID</th>\n",
       "      <th>Item Name</th>\n",
       "      <th>Price</th>\n",
       "    </tr>\n",
       "  </thead>\n",
       "  <tbody>\n",
       "    <tr>\n",
       "      <th>0</th>\n",
       "      <td>0</td>\n",
       "      <td>Lisim78</td>\n",
       "      <td>20</td>\n",
       "      <td>Male</td>\n",
       "      <td>108</td>\n",
       "      <td>Extraction, Quickblade Of Trembling Hands</td>\n",
       "      <td>3.53</td>\n",
       "    </tr>\n",
       "    <tr>\n",
       "      <th>1</th>\n",
       "      <td>1</td>\n",
       "      <td>Lisovynya38</td>\n",
       "      <td>40</td>\n",
       "      <td>Male</td>\n",
       "      <td>143</td>\n",
       "      <td>Frenzied Scimitar</td>\n",
       "      <td>1.56</td>\n",
       "    </tr>\n",
       "    <tr>\n",
       "      <th>2</th>\n",
       "      <td>2</td>\n",
       "      <td>Ithergue48</td>\n",
       "      <td>24</td>\n",
       "      <td>Male</td>\n",
       "      <td>92</td>\n",
       "      <td>Final Critic</td>\n",
       "      <td>4.88</td>\n",
       "    </tr>\n",
       "    <tr>\n",
       "      <th>3</th>\n",
       "      <td>3</td>\n",
       "      <td>Chamassasya86</td>\n",
       "      <td>24</td>\n",
       "      <td>Male</td>\n",
       "      <td>100</td>\n",
       "      <td>Blindscythe</td>\n",
       "      <td>3.27</td>\n",
       "    </tr>\n",
       "    <tr>\n",
       "      <th>4</th>\n",
       "      <td>4</td>\n",
       "      <td>Iskosia90</td>\n",
       "      <td>23</td>\n",
       "      <td>Male</td>\n",
       "      <td>131</td>\n",
       "      <td>Fury</td>\n",
       "      <td>1.44</td>\n",
       "    </tr>\n",
       "  </tbody>\n",
       "</table>\n",
       "</div>"
      ],
      "text/plain": [
       "   Purchase ID             SN  Age Gender  Item ID  \\\n",
       "0            0        Lisim78   20   Male      108   \n",
       "1            1    Lisovynya38   40   Male      143   \n",
       "2            2     Ithergue48   24   Male       92   \n",
       "3            3  Chamassasya86   24   Male      100   \n",
       "4            4      Iskosia90   23   Male      131   \n",
       "\n",
       "                                   Item Name  Price  \n",
       "0  Extraction, Quickblade Of Trembling Hands   3.53  \n",
       "1                          Frenzied Scimitar   1.56  \n",
       "2                               Final Critic   4.88  \n",
       "3                                Blindscythe   3.27  \n",
       "4                                       Fury   1.44  "
      ]
     },
     "execution_count": 3,
     "metadata": {},
     "output_type": "execute_result"
    }
   ],
   "source": [
    "# read the file with pandas data frame; pymoli_df[\"Price\"] = pymoli_df[\"Price\"].map(\"${:.2f}\".format)...\n",
    "#if used, error in average price calc as can't characterize string to float!!!!\n",
    "\n",
    "pymoli_df = pd.read_csv(data_file)\n",
    "\n",
    "pymoli_df.head()"
   ]
  },
  {
   "cell_type": "code",
   "execution_count": 4,
   "metadata": {
    "scrolled": true
   },
   "outputs": [
    {
     "name": "stdout",
     "output_type": "stream",
     "text": [
      "Number of total players 576\n"
     ]
    }
   ],
   "source": [
    "# # Player Count total Number of Players\n",
    "total_players = pymoli_df [\"SN\"].nunique()\n",
    "print(\"Number of total players \" + str(total_players))"
   ]
  },
  {
   "cell_type": "code",
   "execution_count": 5,
   "metadata": {},
   "outputs": [],
   "source": [
    "###Purchase Analysis (Total)---------------------------------------------------------------------------------------------------"
   ]
  },
  {
   "cell_type": "code",
   "execution_count": 6,
   "metadata": {},
   "outputs": [
    {
     "data": {
      "text/plain": [
       "183"
      ]
     },
     "execution_count": 6,
     "metadata": {},
     "output_type": "execute_result"
    }
   ],
   "source": [
    "#Number of Unique Items\n",
    "unique_items = len(pymoli_df[\"Item ID\"].unique())\n",
    "unique_items"
   ]
  },
  {
   "cell_type": "code",
   "execution_count": 7,
   "metadata": {},
   "outputs": [
    {
     "data": {
      "text/plain": [
       "3.050987179487176"
      ]
     },
     "execution_count": 7,
     "metadata": {},
     "output_type": "execute_result"
    }
   ],
   "source": [
    "# Average Purchase Price\n",
    "average_price = pymoli_df[\"Price\"].mean()\n",
    "average_price"
   ]
  },
  {
   "cell_type": "code",
   "execution_count": 8,
   "metadata": {},
   "outputs": [
    {
     "data": {
      "text/plain": [
       "780"
      ]
     },
     "execution_count": 8,
     "metadata": {},
     "output_type": "execute_result"
    }
   ],
   "source": [
    "#Total Number of Purchases\n",
    "number_of_purchases = len(pymoli_df)\n",
    "number_of_purchases"
   ]
  },
  {
   "cell_type": "code",
   "execution_count": 9,
   "metadata": {},
   "outputs": [
    {
     "data": {
      "text/plain": [
       "2379.77"
      ]
     },
     "execution_count": 9,
     "metadata": {},
     "output_type": "execute_result"
    }
   ],
   "source": [
    "#Total Revenue\n",
    "total_revenue = pymoli_df [\"Price\"].sum()\n",
    "total_revenue"
   ]
  },
  {
   "cell_type": "code",
   "execution_count": 10,
   "metadata": {
    "scrolled": true
   },
   "outputs": [
    {
     "data": {
      "text/html": [
       "<div>\n",
       "<style scoped>\n",
       "    .dataframe tbody tr th:only-of-type {\n",
       "        vertical-align: middle;\n",
       "    }\n",
       "\n",
       "    .dataframe tbody tr th {\n",
       "        vertical-align: top;\n",
       "    }\n",
       "\n",
       "    .dataframe thead th {\n",
       "        text-align: right;\n",
       "    }\n",
       "</style>\n",
       "<table border=\"1\" class=\"dataframe\">\n",
       "  <thead>\n",
       "    <tr style=\"text-align: right;\">\n",
       "      <th></th>\n",
       "      <th>Number of Unique Items</th>\n",
       "      <th>Average Price</th>\n",
       "      <th>Number of Purchases</th>\n",
       "      <th>Total Revenue</th>\n",
       "    </tr>\n",
       "  </thead>\n",
       "  <tbody>\n",
       "    <tr>\n",
       "      <th>0</th>\n",
       "      <td>183</td>\n",
       "      <td>3.050987</td>\n",
       "      <td>780</td>\n",
       "      <td>2379.77</td>\n",
       "    </tr>\n",
       "  </tbody>\n",
       "</table>\n",
       "</div>"
      ],
      "text/plain": [
       "   Number of Unique Items  Average Price  Number of Purchases  Total Revenue\n",
       "0                     183       3.050987                  780        2379.77"
      ]
     },
     "execution_count": 10,
     "metadata": {},
     "output_type": "execute_result"
    }
   ],
   "source": [
    "###***purchasing Analysis (Total) summary_df1\n",
    "df1 = pd.DataFrame({\n",
    "    \"Number of Unique Items\": [unique_items],\n",
    "    \"Average Price\" :[average_price],\n",
    "    \"Number of Purchases\" :[number_of_purchases],\n",
    "    \"Total Revenue\" :[total_revenue],\n",
    "})\n",
    "                                    \n",
    "df1.head()"
   ]
  },
  {
   "cell_type": "code",
   "execution_count": 11,
   "metadata": {},
   "outputs": [],
   "source": [
    "###Gender Demographics----------------------------------------------------------------------------------------------------------"
   ]
  },
  {
   "cell_type": "code",
   "execution_count": 12,
   "metadata": {},
   "outputs": [
    {
     "data": {
      "text/plain": [
       "Male                     652\n",
       "Female                   113\n",
       "Other / Non-Disclosed     15\n",
       "Name: Gender, dtype: int64"
      ]
     },
     "execution_count": 12,
     "metadata": {},
     "output_type": "execute_result"
    }
   ],
   "source": [
    "# Count of Male, Female, Other/ Non-Disclosed Players\n",
    "gender_count = pymoli_df [\"Gender\"].value_counts()\n",
    "gender_count"
   ]
  },
  {
   "cell_type": "code",
   "execution_count": 13,
   "metadata": {},
   "outputs": [
    {
     "data": {
      "text/plain": [
       "Male                     113.19\n",
       "Female                    19.62\n",
       "Other / Non-Disclosed      2.60\n",
       "Name: Gender, dtype: float64"
      ]
     },
     "execution_count": 13,
     "metadata": {},
     "output_type": "execute_result"
    }
   ],
   "source": [
    "#Gender Percentage\n",
    "gender_percentage = (gender_count/total_players)*100\n",
    "gender_percentage.round(2)"
   ]
  },
  {
   "cell_type": "code",
   "execution_count": 14,
   "metadata": {},
   "outputs": [
    {
     "data": {
      "text/html": [
       "<div>\n",
       "<style scoped>\n",
       "    .dataframe tbody tr th:only-of-type {\n",
       "        vertical-align: middle;\n",
       "    }\n",
       "\n",
       "    .dataframe tbody tr th {\n",
       "        vertical-align: top;\n",
       "    }\n",
       "\n",
       "    .dataframe thead th {\n",
       "        text-align: right;\n",
       "    }\n",
       "</style>\n",
       "<table border=\"1\" class=\"dataframe\">\n",
       "  <thead>\n",
       "    <tr style=\"text-align: right;\">\n",
       "      <th></th>\n",
       "      <th>Gender Count</th>\n",
       "      <th>Gender Percentage</th>\n",
       "    </tr>\n",
       "  </thead>\n",
       "  <tbody>\n",
       "    <tr>\n",
       "      <th>Male</th>\n",
       "      <td>652</td>\n",
       "      <td>113.19</td>\n",
       "    </tr>\n",
       "    <tr>\n",
       "      <th>Female</th>\n",
       "      <td>113</td>\n",
       "      <td>19.62</td>\n",
       "    </tr>\n",
       "    <tr>\n",
       "      <th>Other / Non-Disclosed</th>\n",
       "      <td>15</td>\n",
       "      <td>2.60</td>\n",
       "    </tr>\n",
       "  </tbody>\n",
       "</table>\n",
       "</div>"
      ],
      "text/plain": [
       "                       Gender Count  Gender Percentage\n",
       "Male                            652             113.19\n",
       "Female                          113              19.62\n",
       "Other / Non-Disclosed            15               2.60"
      ]
     },
     "execution_count": 14,
     "metadata": {},
     "output_type": "execute_result"
    }
   ],
   "source": [
    "###***Gender Demographic summary_df2\n",
    "df2 = pd.DataFrame({\"Gender Count\": gender_count, \"Gender Percentage\": gender_percentage.round(2)})\n",
    "    \n",
    "df2.head()"
   ]
  },
  {
   "cell_type": "code",
   "execution_count": 15,
   "metadata": {},
   "outputs": [],
   "source": [
    "###Purchasing Analysis (Gender)-------------------------------------------------------------------------------------------------"
   ]
  },
  {
   "cell_type": "code",
   "execution_count": 16,
   "metadata": {},
   "outputs": [
    {
     "data": {
      "text/plain": [
       "Gender\n",
       "Female                   113\n",
       "Male                     652\n",
       "Other / Non-Disclosed     15\n",
       "Name: SN, dtype: int64"
      ]
     },
     "execution_count": 16,
     "metadata": {},
     "output_type": "execute_result"
    }
   ],
   "source": [
    "#Purchase Count by Gender\n",
    "Purchase_Count_by_Gender = pymoli_df.groupby(\"Gender\")[\"SN\"].count()\n",
    "\n",
    "Purchase_Count_by_Gender"
   ]
  },
  {
   "cell_type": "code",
   "execution_count": 17,
   "metadata": {},
   "outputs": [
    {
     "data": {
      "text/plain": [
       "Gender\n",
       "Female                   3.20\n",
       "Male                     3.02\n",
       "Other / Non-Disclosed    3.35\n",
       "Name: Price, dtype: float64"
      ]
     },
     "execution_count": 17,
     "metadata": {},
     "output_type": "execute_result"
    }
   ],
   "source": [
    "#Average Purchase Price by Gender\n",
    "Average_Purchase_Price_by_Gender = pymoli_df.groupby(\"Gender\")[\"Price\"].mean()\n",
    "Average_Purchase_Price_by_Gender.round(2)"
   ]
  },
  {
   "cell_type": "code",
   "execution_count": 18,
   "metadata": {},
   "outputs": [
    {
     "data": {
      "text/plain": [
       "Gender\n",
       "Female                    361.94\n",
       "Male                     1967.64\n",
       "Other / Non-Disclosed      50.19\n",
       "Name: Price, dtype: float64"
      ]
     },
     "execution_count": 18,
     "metadata": {},
     "output_type": "execute_result"
    }
   ],
   "source": [
    "#Total Purchase Value by Gender\n",
    "Total_Purchase_Value_by_Gender = pymoli_df.groupby(\"Gender\")[\"Price\"].sum()\n",
    "Total_Purchase_Value_by_Gender.round(2)"
   ]
  },
  {
   "cell_type": "code",
   "execution_count": 19,
   "metadata": {},
   "outputs": [
    {
     "data": {
      "text/plain": [
       "Female                   3.20\n",
       "Male                     3.02\n",
       "Other / Non-Disclosed    3.35\n",
       "dtype: float64"
      ]
     },
     "execution_count": 19,
     "metadata": {},
     "output_type": "execute_result"
    }
   ],
   "source": [
    "#Average Purchase Total per Person by Gender\n",
    "Average_Purchase_Total_perPerson_by_Gender = Total_Purchase_Value_by_Gender/ gender_count\n",
    "Average_Purchase_Total_perPerson_by_Gender.round(2)"
   ]
  },
  {
   "cell_type": "code",
   "execution_count": 20,
   "metadata": {},
   "outputs": [],
   "source": [
    "###***Purchasing Analysis (Gender)_df3"
   ]
  },
  {
   "cell_type": "code",
   "execution_count": 21,
   "metadata": {},
   "outputs": [
    {
     "data": {
      "text/html": [
       "<div>\n",
       "<style scoped>\n",
       "    .dataframe tbody tr th:only-of-type {\n",
       "        vertical-align: middle;\n",
       "    }\n",
       "\n",
       "    .dataframe tbody tr th {\n",
       "        vertical-align: top;\n",
       "    }\n",
       "\n",
       "    .dataframe thead th {\n",
       "        text-align: right;\n",
       "    }\n",
       "</style>\n",
       "<table border=\"1\" class=\"dataframe\">\n",
       "  <thead>\n",
       "    <tr style=\"text-align: right;\">\n",
       "      <th></th>\n",
       "      <th>Purchase Count</th>\n",
       "      <th>Average Purchase Price</th>\n",
       "      <th>Total Purchase Value</th>\n",
       "      <th>Avg Purchase Total per Person</th>\n",
       "    </tr>\n",
       "    <tr>\n",
       "      <th>Gender</th>\n",
       "      <th></th>\n",
       "      <th></th>\n",
       "      <th></th>\n",
       "      <th></th>\n",
       "    </tr>\n",
       "  </thead>\n",
       "  <tbody>\n",
       "    <tr>\n",
       "      <th>Female</th>\n",
       "      <td>113</td>\n",
       "      <td>3.20</td>\n",
       "      <td>361.94</td>\n",
       "      <td>3.20</td>\n",
       "    </tr>\n",
       "    <tr>\n",
       "      <th>Male</th>\n",
       "      <td>652</td>\n",
       "      <td>3.02</td>\n",
       "      <td>1967.64</td>\n",
       "      <td>3.02</td>\n",
       "    </tr>\n",
       "    <tr>\n",
       "      <th>Other / Non-Disclosed</th>\n",
       "      <td>15</td>\n",
       "      <td>3.35</td>\n",
       "      <td>50.19</td>\n",
       "      <td>3.35</td>\n",
       "    </tr>\n",
       "  </tbody>\n",
       "</table>\n",
       "</div>"
      ],
      "text/plain": [
       "                       Purchase Count  Average Purchase Price  \\\n",
       "Gender                                                          \n",
       "Female                            113                    3.20   \n",
       "Male                              652                    3.02   \n",
       "Other / Non-Disclosed              15                    3.35   \n",
       "\n",
       "                       Total Purchase Value  Avg Purchase Total per Person  \n",
       "Gender                                                                      \n",
       "Female                               361.94                           3.20  \n",
       "Male                                1967.64                           3.02  \n",
       "Other / Non-Disclosed                 50.19                           3.35  "
      ]
     },
     "execution_count": 21,
     "metadata": {},
     "output_type": "execute_result"
    }
   ],
   "source": [
    "#Purchasing Analysis by Gender\n",
    "df3 = pd.DataFrame({\"Purchase Count\" : Purchase_Count_by_Gender, \n",
    "                    \"Average Purchase Price\" : Average_Purchase_Price_by_Gender.round(2),\n",
    "                    \"Total Purchase Value\" : Total_Purchase_Value_by_Gender, \n",
    "                    \"Avg Purchase Total per Person\" : Average_Purchase_Total_perPerson_by_Gender.round(2)})\n",
    "\n",
    "df3.head()\n",
    "                    "
   ]
  },
  {
   "cell_type": "code",
   "execution_count": 22,
   "metadata": {},
   "outputs": [],
   "source": [
    "### Age Demographics * The below each broken into bins of 4 years (i.e. &lt;10, 10-14, 15-19, etc.)"
   ]
  },
  {
   "cell_type": "code",
   "execution_count": 23,
   "metadata": {},
   "outputs": [],
   "source": [
    "#Establish bins for age groups\n",
    "\n",
    "age_bins = [0, 9.90, 14.90, 19.90, 24.90, 29.90, 34.90, 39.90, 99999]\n",
    "\n",
    "group_names = [\"<10\", \"10-14\", \"15-19\", \"20-24\", \"25-29\", \"30-34\", \"35-39\", \"40+\"] "
   ]
  },
  {
   "cell_type": "code",
   "execution_count": 24,
   "metadata": {
    "scrolled": false
   },
   "outputs": [
    {
     "data": {
      "text/html": [
       "<div>\n",
       "<style scoped>\n",
       "    .dataframe tbody tr th:only-of-type {\n",
       "        vertical-align: middle;\n",
       "    }\n",
       "\n",
       "    .dataframe tbody tr th {\n",
       "        vertical-align: top;\n",
       "    }\n",
       "\n",
       "    .dataframe thead th {\n",
       "        text-align: right;\n",
       "    }\n",
       "</style>\n",
       "<table border=\"1\" class=\"dataframe\">\n",
       "  <thead>\n",
       "    <tr style=\"text-align: right;\">\n",
       "      <th></th>\n",
       "      <th>Purchase ID</th>\n",
       "      <th>SN</th>\n",
       "      <th>Age</th>\n",
       "      <th>Gender</th>\n",
       "      <th>Item ID</th>\n",
       "      <th>Item Name</th>\n",
       "      <th>Price</th>\n",
       "      <th>Age Groups</th>\n",
       "    </tr>\n",
       "  </thead>\n",
       "  <tbody>\n",
       "    <tr>\n",
       "      <th>0</th>\n",
       "      <td>0</td>\n",
       "      <td>Lisim78</td>\n",
       "      <td>20</td>\n",
       "      <td>Male</td>\n",
       "      <td>108</td>\n",
       "      <td>Extraction, Quickblade Of Trembling Hands</td>\n",
       "      <td>3.53</td>\n",
       "      <td>20-24</td>\n",
       "    </tr>\n",
       "    <tr>\n",
       "      <th>1</th>\n",
       "      <td>1</td>\n",
       "      <td>Lisovynya38</td>\n",
       "      <td>40</td>\n",
       "      <td>Male</td>\n",
       "      <td>143</td>\n",
       "      <td>Frenzied Scimitar</td>\n",
       "      <td>1.56</td>\n",
       "      <td>40+</td>\n",
       "    </tr>\n",
       "    <tr>\n",
       "      <th>2</th>\n",
       "      <td>2</td>\n",
       "      <td>Ithergue48</td>\n",
       "      <td>24</td>\n",
       "      <td>Male</td>\n",
       "      <td>92</td>\n",
       "      <td>Final Critic</td>\n",
       "      <td>4.88</td>\n",
       "      <td>20-24</td>\n",
       "    </tr>\n",
       "    <tr>\n",
       "      <th>3</th>\n",
       "      <td>3</td>\n",
       "      <td>Chamassasya86</td>\n",
       "      <td>24</td>\n",
       "      <td>Male</td>\n",
       "      <td>100</td>\n",
       "      <td>Blindscythe</td>\n",
       "      <td>3.27</td>\n",
       "      <td>20-24</td>\n",
       "    </tr>\n",
       "    <tr>\n",
       "      <th>4</th>\n",
       "      <td>4</td>\n",
       "      <td>Iskosia90</td>\n",
       "      <td>23</td>\n",
       "      <td>Male</td>\n",
       "      <td>131</td>\n",
       "      <td>Fury</td>\n",
       "      <td>1.44</td>\n",
       "      <td>20-24</td>\n",
       "    </tr>\n",
       "  </tbody>\n",
       "</table>\n",
       "</div>"
      ],
      "text/plain": [
       "   Purchase ID             SN  Age Gender  Item ID  \\\n",
       "0            0        Lisim78   20   Male      108   \n",
       "1            1    Lisovynya38   40   Male      143   \n",
       "2            2     Ithergue48   24   Male       92   \n",
       "3            3  Chamassasya86   24   Male      100   \n",
       "4            4      Iskosia90   23   Male      131   \n",
       "\n",
       "                                   Item Name  Price Age Groups  \n",
       "0  Extraction, Quickblade Of Trembling Hands   3.53      20-24  \n",
       "1                          Frenzied Scimitar   1.56        40+  \n",
       "2                               Final Critic   4.88      20-24  \n",
       "3                                Blindscythe   3.27      20-24  \n",
       "4                                       Fury   1.44      20-24  "
      ]
     },
     "execution_count": 24,
     "metadata": {},
     "output_type": "execute_result"
    }
   ],
   "source": [
    "#Categorize the existing players using the age bins. Hint: use pd.cut()\n",
    "\n",
    "pymoli_df[\"Age Groups\"] = pd.cut(pymoli_df[\"Age\"], age_bins, labels = group_names)\n",
    "pymoli_df.head()"
   ]
  },
  {
   "cell_type": "code",
   "execution_count": 25,
   "metadata": {},
   "outputs": [
    {
     "data": {
      "text/plain": [
       "Age Groups\n",
       "<10       23\n",
       "10-14     28\n",
       "15-19    136\n",
       "20-24    365\n",
       "25-29    101\n",
       "30-34     73\n",
       "35-39     41\n",
       "40+       13\n",
       "Name: SN, dtype: int64"
      ]
     },
     "execution_count": 25,
     "metadata": {},
     "output_type": "execute_result"
    }
   ],
   "source": [
    "#Calculate count per age group\n",
    "\n",
    "count_per_age_group = pymoli_df.groupby(\"Age Groups\")[\"SN\"].count()\n",
    "\n",
    "count_per_age_group"
   ]
  },
  {
   "cell_type": "code",
   "execution_count": 26,
   "metadata": {},
   "outputs": [
    {
     "data": {
      "text/plain": [
       "Age Groups\n",
       "<10       3.99\n",
       "10-14     4.86\n",
       "15-19    23.61\n",
       "20-24    63.37\n",
       "25-29    17.53\n",
       "30-34    12.67\n",
       "35-39     7.12\n",
       "40+       2.26\n",
       "Name: SN, dtype: float64"
      ]
     },
     "execution_count": 26,
     "metadata": {},
     "output_type": "execute_result"
    }
   ],
   "source": [
    "# Calculate percentage of age grp count\n",
    "\n",
    "AgeGroups_percentage = (count_per_age_group/total_players)*100\n",
    "AgeGroups_percentage.round(2)"
   ]
  },
  {
   "cell_type": "code",
   "execution_count": 27,
   "metadata": {
    "scrolled": true
   },
   "outputs": [
    {
     "data": {
      "text/html": [
       "<div>\n",
       "<style scoped>\n",
       "    .dataframe tbody tr th:only-of-type {\n",
       "        vertical-align: middle;\n",
       "    }\n",
       "\n",
       "    .dataframe tbody tr th {\n",
       "        vertical-align: top;\n",
       "    }\n",
       "\n",
       "    .dataframe thead th {\n",
       "        text-align: right;\n",
       "    }\n",
       "</style>\n",
       "<table border=\"1\" class=\"dataframe\">\n",
       "  <thead>\n",
       "    <tr style=\"text-align: right;\">\n",
       "      <th></th>\n",
       "      <th>Player Percentage per age group</th>\n",
       "      <th>Age Group Count</th>\n",
       "    </tr>\n",
       "    <tr>\n",
       "      <th>Age Groups</th>\n",
       "      <th></th>\n",
       "      <th></th>\n",
       "    </tr>\n",
       "  </thead>\n",
       "  <tbody>\n",
       "    <tr>\n",
       "      <th>&lt;10</th>\n",
       "      <td>3.99</td>\n",
       "      <td>23</td>\n",
       "    </tr>\n",
       "    <tr>\n",
       "      <th>10-14</th>\n",
       "      <td>4.86</td>\n",
       "      <td>28</td>\n",
       "    </tr>\n",
       "    <tr>\n",
       "      <th>15-19</th>\n",
       "      <td>23.61</td>\n",
       "      <td>136</td>\n",
       "    </tr>\n",
       "    <tr>\n",
       "      <th>20-24</th>\n",
       "      <td>63.37</td>\n",
       "      <td>365</td>\n",
       "    </tr>\n",
       "    <tr>\n",
       "      <th>25-29</th>\n",
       "      <td>17.53</td>\n",
       "      <td>101</td>\n",
       "    </tr>\n",
       "    <tr>\n",
       "      <th>30-34</th>\n",
       "      <td>12.67</td>\n",
       "      <td>73</td>\n",
       "    </tr>\n",
       "    <tr>\n",
       "      <th>35-39</th>\n",
       "      <td>7.12</td>\n",
       "      <td>41</td>\n",
       "    </tr>\n",
       "    <tr>\n",
       "      <th>40+</th>\n",
       "      <td>2.26</td>\n",
       "      <td>13</td>\n",
       "    </tr>\n",
       "  </tbody>\n",
       "</table>\n",
       "</div>"
      ],
      "text/plain": [
       "            Player Percentage per age group  Age Group Count\n",
       "Age Groups                                                  \n",
       "<10                                    3.99               23\n",
       "10-14                                  4.86               28\n",
       "15-19                                 23.61              136\n",
       "20-24                                 63.37              365\n",
       "25-29                                 17.53              101\n",
       "30-34                                 12.67               73\n",
       "35-39                                  7.12               41\n",
       "40+                                    2.26               13"
      ]
     },
     "execution_count": 27,
     "metadata": {},
     "output_type": "execute_result"
    }
   ],
   "source": [
    "#summary data with Percentage of Players and Total Count_df4\n",
    "\n",
    "df4 = pd.DataFrame({\"Player Percentage per age group\" : AgeGroups_percentage.round(2), \n",
    "                    \"Age Group Count\" : count_per_age_group})\n",
    "\n",
    "df4                    "
   ]
  },
  {
   "cell_type": "code",
   "execution_count": 28,
   "metadata": {},
   "outputs": [
    {
     "data": {
      "text/plain": [
       "Age Groups\n",
       "<10       23\n",
       "10-14     28\n",
       "15-19    136\n",
       "20-24    365\n",
       "25-29    101\n",
       "30-34     73\n",
       "35-39     41\n",
       "40+       13\n",
       "Name: SN, dtype: int64"
      ]
     },
     "execution_count": 28,
     "metadata": {},
     "output_type": "execute_result"
    }
   ],
   "source": [
    "# Purchase Count by age group\n",
    "purchase_count = pymoli_df.groupby(\"Age Groups\")[\"SN\"].count()\n",
    "purchase_count"
   ]
  },
  {
   "cell_type": "code",
   "execution_count": 29,
   "metadata": {},
   "outputs": [
    {
     "data": {
      "text/plain": [
       "Age Groups\n",
       "<10      3.35\n",
       "10-14    2.96\n",
       "15-19    3.04\n",
       "20-24    3.05\n",
       "25-29    2.90\n",
       "30-34    2.93\n",
       "35-39    3.60\n",
       "40+      2.94\n",
       "Name: Price, dtype: float64"
      ]
     },
     "execution_count": 29,
     "metadata": {},
     "output_type": "execute_result"
    }
   ],
   "source": [
    "# Average Purchase Price by Age Groups\n",
    "\n",
    "Average_Purchase_Price_by_Age_Groups = pymoli_df.groupby(\"Age Groups\")[\"Price\"].mean()\n",
    "Average_Purchase_Price_by_Age_Groups.round(2)\n"
   ]
  },
  {
   "cell_type": "code",
   "execution_count": 30,
   "metadata": {},
   "outputs": [
    {
     "data": {
      "text/plain": [
       "Age Groups\n",
       "<10        77.13\n",
       "10-14      82.78\n",
       "15-19     412.89\n",
       "20-24    1114.06\n",
       "25-29     293.00\n",
       "30-34     214.00\n",
       "35-39     147.67\n",
       "40+        38.24\n",
       "Name: Price, dtype: float64"
      ]
     },
     "execution_count": 30,
     "metadata": {},
     "output_type": "execute_result"
    }
   ],
   "source": [
    "# Total Purchase Value\n",
    "\n",
    "Total_Purchase_Price_by_Age_Groups = pymoli_df.groupby(\"Age Groups\")[\"Price\"].sum()\n",
    "Total_Purchase_Price_by_Age_Groups.round(2)\n"
   ]
  },
  {
   "cell_type": "code",
   "execution_count": 31,
   "metadata": {},
   "outputs": [
    {
     "data": {
      "text/plain": [
       "Age Groups\n",
       "<10      3.35\n",
       "10-14    2.96\n",
       "15-19    3.04\n",
       "20-24    3.05\n",
       "25-29    2.90\n",
       "30-34    2.93\n",
       "35-39    3.60\n",
       "40+      2.94\n",
       "dtype: float64"
      ]
     },
     "execution_count": 31,
     "metadata": {},
     "output_type": "execute_result"
    }
   ],
   "source": [
    "# Average Purchase Total per Person by Age Group\n",
    "\n",
    "Average_Purchase_Total_per_Person_per_Age_Groups = Total_Purchase_Price_by_Age_Groups/count_per_age_group\n",
    "Average_Purchase_Total_per_Person_per_Age_Groups.round(2)"
   ]
  },
  {
   "cell_type": "code",
   "execution_count": 32,
   "metadata": {},
   "outputs": [
    {
     "data": {
      "text/html": [
       "<div>\n",
       "<style scoped>\n",
       "    .dataframe tbody tr th:only-of-type {\n",
       "        vertical-align: middle;\n",
       "    }\n",
       "\n",
       "    .dataframe tbody tr th {\n",
       "        vertical-align: top;\n",
       "    }\n",
       "\n",
       "    .dataframe thead th {\n",
       "        text-align: right;\n",
       "    }\n",
       "</style>\n",
       "<table border=\"1\" class=\"dataframe\">\n",
       "  <thead>\n",
       "    <tr style=\"text-align: right;\">\n",
       "      <th></th>\n",
       "      <th>Purchase Count</th>\n",
       "      <th>Average Purchase Price</th>\n",
       "      <th>Total Purchase Value</th>\n",
       "      <th>Average Purchase Total per Person</th>\n",
       "    </tr>\n",
       "    <tr>\n",
       "      <th>Age Groups</th>\n",
       "      <th></th>\n",
       "      <th></th>\n",
       "      <th></th>\n",
       "      <th></th>\n",
       "    </tr>\n",
       "  </thead>\n",
       "  <tbody>\n",
       "    <tr>\n",
       "      <th>&lt;10</th>\n",
       "      <td>23</td>\n",
       "      <td>3.35</td>\n",
       "      <td>77.13</td>\n",
       "      <td>3.35</td>\n",
       "    </tr>\n",
       "    <tr>\n",
       "      <th>10-14</th>\n",
       "      <td>28</td>\n",
       "      <td>2.96</td>\n",
       "      <td>82.78</td>\n",
       "      <td>2.96</td>\n",
       "    </tr>\n",
       "    <tr>\n",
       "      <th>15-19</th>\n",
       "      <td>136</td>\n",
       "      <td>3.04</td>\n",
       "      <td>412.89</td>\n",
       "      <td>3.04</td>\n",
       "    </tr>\n",
       "    <tr>\n",
       "      <th>20-24</th>\n",
       "      <td>365</td>\n",
       "      <td>3.05</td>\n",
       "      <td>1114.06</td>\n",
       "      <td>3.05</td>\n",
       "    </tr>\n",
       "    <tr>\n",
       "      <th>25-29</th>\n",
       "      <td>101</td>\n",
       "      <td>2.90</td>\n",
       "      <td>293.00</td>\n",
       "      <td>2.90</td>\n",
       "    </tr>\n",
       "    <tr>\n",
       "      <th>30-34</th>\n",
       "      <td>73</td>\n",
       "      <td>2.93</td>\n",
       "      <td>214.00</td>\n",
       "      <td>2.93</td>\n",
       "    </tr>\n",
       "    <tr>\n",
       "      <th>35-39</th>\n",
       "      <td>41</td>\n",
       "      <td>3.60</td>\n",
       "      <td>147.67</td>\n",
       "      <td>3.60</td>\n",
       "    </tr>\n",
       "    <tr>\n",
       "      <th>40+</th>\n",
       "      <td>13</td>\n",
       "      <td>2.94</td>\n",
       "      <td>38.24</td>\n",
       "      <td>2.94</td>\n",
       "    </tr>\n",
       "  </tbody>\n",
       "</table>\n",
       "</div>"
      ],
      "text/plain": [
       "            Purchase Count  Average Purchase Price  Total Purchase Value  \\\n",
       "Age Groups                                                                 \n",
       "<10                     23                    3.35                 77.13   \n",
       "10-14                   28                    2.96                 82.78   \n",
       "15-19                  136                    3.04                412.89   \n",
       "20-24                  365                    3.05               1114.06   \n",
       "25-29                  101                    2.90                293.00   \n",
       "30-34                   73                    2.93                214.00   \n",
       "35-39                   41                    3.60                147.67   \n",
       "40+                     13                    2.94                 38.24   \n",
       "\n",
       "            Average Purchase Total per Person  \n",
       "Age Groups                                     \n",
       "<10                                      3.35  \n",
       "10-14                                    2.96  \n",
       "15-19                                    3.04  \n",
       "20-24                                    3.05  \n",
       "25-29                                    2.90  \n",
       "30-34                                    2.93  \n",
       "35-39                                    3.60  \n",
       "40+                                      2.94  "
      ]
     },
     "execution_count": 32,
     "metadata": {},
     "output_type": "execute_result"
    }
   ],
   "source": [
    "#Purchase Analysis (Age)_df5\n",
    "\n",
    "df5 = pd.DataFrame({\"Purchase Count\" : purchase_count, \n",
    "                    \"Average Purchase Price\" : Average_Purchase_Price_by_Age_Groups.round(2), \n",
    "                    \"Total Purchase Value\" : Total_Purchase_Price_by_Age_Groups, \n",
    "                    \"Average Purchase Total per Person\": Average_Purchase_Total_per_Person_per_Age_Groups.round(2)})\n",
    "df5.head(10)"
   ]
  },
  {
   "cell_type": "code",
   "execution_count": 33,
   "metadata": {},
   "outputs": [],
   "source": [
    "### Top Five Spenders"
   ]
  },
  {
   "cell_type": "code",
   "execution_count": 34,
   "metadata": {
    "scrolled": true
   },
   "outputs": [
    {
     "data": {
      "text/plain": [
       "Lisosia93        5\n",
       "Iral74           4\n",
       "Idastidru52      4\n",
       "Siallylis44      3\n",
       "Ilarin91         3\n",
       "Strithenu87      3\n",
       "Tyidaim51        3\n",
       "Lisim78          3\n",
       "Iri67            3\n",
       "Haillyrgue51     3\n",
       "Sondastsda82     3\n",
       "Pheodaisun84     3\n",
       "Hiaral50         3\n",
       "Chamimla85       3\n",
       "Aelin32          3\n",
       "Raesty92         3\n",
       "Idai61           3\n",
       "Lisopela58       3\n",
       "Iskadarya95      3\n",
       "Saistyphos30     3\n",
       "Umolrian85       3\n",
       "Zontibe81        3\n",
       "Chadolyla44      3\n",
       "Tyisur83         3\n",
       "Silaera56        3\n",
       "Phyali88         3\n",
       "Hada39           3\n",
       "Aina42           3\n",
       "Ialallo29        3\n",
       "Rarallo90        3\n",
       "                ..\n",
       "Hariphos58       1\n",
       "Chanirra64       1\n",
       "Chanjask65       1\n",
       "Ililsasya43      1\n",
       "Chamassasya86    1\n",
       "Phaedue89        1\n",
       "Lisista63        1\n",
       "Eulae84          1\n",
       "Assehoan67       1\n",
       "Laedallo55       1\n",
       "Eusri44          1\n",
       "Ethralista69     1\n",
       "Seuthep89        1\n",
       "Cosadar58        1\n",
       "Aidai73          1\n",
       "Frichilsa31      1\n",
       "Marughi89        1\n",
       "Lisiriya82       1\n",
       "Malil90          1\n",
       "Undotesta33      1\n",
       "Yarithrin84      1\n",
       "Aelaria33        1\n",
       "Hallysucal81     1\n",
       "Chamalo71        1\n",
       "Rairin89         1\n",
       "Frichynde86      1\n",
       "Malon70          1\n",
       "Qilanrion65      1\n",
       "Inasuir29        1\n",
       "Ialidru40        1\n",
       "Name: SN, Length: 576, dtype: int64"
      ]
     },
     "execution_count": 34,
     "metadata": {},
     "output_type": "execute_result"
    }
   ],
   "source": [
    "# Purchase_Count by All\n",
    "df6 = pymoli_df [\"SN\"].value_counts()\n",
    "df6\n"
   ]
  },
  {
   "cell_type": "code",
   "execution_count": 35,
   "metadata": {
    "scrolled": true
   },
   "outputs": [
    {
     "data": {
      "text/plain": [
       "SN\n",
       "Adairialis76       2.28\n",
       "Adastirin33        4.48\n",
       "Aeda94             4.91\n",
       "Aela59             4.32\n",
       "Aelaria33          1.79\n",
       "Aelastirin39       7.29\n",
       "Aelidru27          1.09\n",
       "Aelin32            8.98\n",
       "Aelly27            6.79\n",
       "Aellynun67         3.74\n",
       "Aellyria80         3.08\n",
       "Aelollo59          5.63\n",
       "Aenarap34          2.96\n",
       "Aeral43            4.40\n",
       "Aeral68            4.00\n",
       "Aeral97            4.80\n",
       "Aeralria27         4.09\n",
       "Aeralstical35      2.96\n",
       "Aeri84             1.61\n",
       "Aerillorin70       3.33\n",
       "Aerithllora36      8.64\n",
       "Aerithnucal56      4.40\n",
       "Aerithnuphos61     4.91\n",
       "Aerithriaphos45    1.56\n",
       "Aerithriaphos46    2.18\n",
       "Aesri53            1.76\n",
       "Aesty53            3.91\n",
       "Aestysu37          5.38\n",
       "Aesur96            2.21\n",
       "Aesurstilis64      1.03\n",
       "                   ... \n",
       "Undosia27          3.77\n",
       "Undosian34         8.30\n",
       "Undotesta33        4.74\n",
       "Wailin72           2.73\n",
       "Yadacal26          6.54\n",
       "Yadaisuir65        4.09\n",
       "Yadam35            2.48\n",
       "Yadanu52           2.38\n",
       "Yadaphos40         5.35\n",
       "Yalae81            6.69\n",
       "Yalaeria91         1.06\n",
       "Yaliru88           3.03\n",
       "Yalo85             3.65\n",
       "Yalostiphos68      4.40\n",
       "Yana46             3.55\n",
       "Yarithllodeu72     3.75\n",
       "Yarithrgue83       3.45\n",
       "Yarithrin84        4.14\n",
       "Yarithsurgue62     4.94\n",
       "Yarolwen77         4.43\n",
       "Yasrisu92          3.44\n",
       "Yastyriaphos75     4.75\n",
       "Yasur35            4.48\n",
       "Yasur85            1.10\n",
       "Yathecal72         3.46\n",
       "Yathecal82         6.22\n",
       "Yathedeu43         6.02\n",
       "Yoishirrala98      4.58\n",
       "Zhisrisu83         7.89\n",
       "Zontibe81          8.03\n",
       "Name: Price, Length: 576, dtype: float64"
      ]
     },
     "execution_count": 35,
     "metadata": {},
     "output_type": "execute_result"
    }
   ],
   "source": [
    "# Total Purchase Price by All\n",
    "\n",
    "df7 = pymoli_df.groupby (\"SN\")[\"Price\"].sum()\n",
    "\n",
    "df7"
   ]
  },
  {
   "cell_type": "code",
   "execution_count": 36,
   "metadata": {
    "scrolled": true
   },
   "outputs": [
    {
     "data": {
      "text/plain": [
       "Adairialis76       2.280000\n",
       "Adastirin33        4.480000\n",
       "Aeda94             4.910000\n",
       "Aela59             4.320000\n",
       "Aelaria33          1.790000\n",
       "Aelastirin39       3.645000\n",
       "Aelidru27          1.090000\n",
       "Aelin32            2.993333\n",
       "Aelly27            3.395000\n",
       "Aellynun67         3.740000\n",
       "Aellyria80         3.080000\n",
       "Aelollo59          2.815000\n",
       "Aenarap34          2.960000\n",
       "Aeral43            4.400000\n",
       "Aeral68            4.000000\n",
       "Aeral97            4.800000\n",
       "Aeralria27         4.090000\n",
       "Aeralstical35      2.960000\n",
       "Aeri84             1.610000\n",
       "Aerillorin70       3.330000\n",
       "Aerithllora36      4.320000\n",
       "Aerithnucal56      4.400000\n",
       "Aerithnuphos61     4.910000\n",
       "Aerithriaphos45    1.560000\n",
       "Aerithriaphos46    2.180000\n",
       "Aesri53            1.760000\n",
       "Aesty53            1.955000\n",
       "Aestysu37          2.690000\n",
       "Aesur96            2.210000\n",
       "Aesurstilis64      1.030000\n",
       "                     ...   \n",
       "Undosia27          3.770000\n",
       "Undosian34         4.150000\n",
       "Undotesta33        4.740000\n",
       "Wailin72           2.730000\n",
       "Yadacal26          3.270000\n",
       "Yadaisuir65        4.090000\n",
       "Yadam35            2.480000\n",
       "Yadanu52           2.380000\n",
       "Yadaphos40         2.675000\n",
       "Yalae81            3.345000\n",
       "Yalaeria91         1.060000\n",
       "Yaliru88           3.030000\n",
       "Yalo85             3.650000\n",
       "Yalostiphos68      4.400000\n",
       "Yana46             3.550000\n",
       "Yarithllodeu72     3.750000\n",
       "Yarithrgue83       3.450000\n",
       "Yarithrin84        4.140000\n",
       "Yarithsurgue62     4.940000\n",
       "Yarolwen77         4.430000\n",
       "Yasrisu92          3.440000\n",
       "Yastyriaphos75     4.750000\n",
       "Yasur35            4.480000\n",
       "Yasur85            1.100000\n",
       "Yathecal72         3.460000\n",
       "Yathecal82         2.073333\n",
       "Yathedeu43         3.010000\n",
       "Yoishirrala98      4.580000\n",
       "Zhisrisu83         3.945000\n",
       "Zontibe81          2.676667\n",
       "Length: 576, dtype: float64"
      ]
     },
     "execution_count": 36,
     "metadata": {},
     "output_type": "execute_result"
    }
   ],
   "source": [
    "# Average Purchase Price by All\n",
    "df8 = df7/df6\n",
    "df8"
   ]
  },
  {
   "cell_type": "code",
   "execution_count": 37,
   "metadata": {},
   "outputs": [
    {
     "data": {
      "text/html": [
       "<div>\n",
       "<style scoped>\n",
       "    .dataframe tbody tr th:only-of-type {\n",
       "        vertical-align: middle;\n",
       "    }\n",
       "\n",
       "    .dataframe tbody tr th {\n",
       "        vertical-align: top;\n",
       "    }\n",
       "\n",
       "    .dataframe thead th {\n",
       "        text-align: right;\n",
       "    }\n",
       "</style>\n",
       "<table border=\"1\" class=\"dataframe\">\n",
       "  <thead>\n",
       "    <tr style=\"text-align: right;\">\n",
       "      <th></th>\n",
       "      <th>Purchase Count</th>\n",
       "      <th>Average Purchase Price</th>\n",
       "      <th>Total Purchase Value</th>\n",
       "    </tr>\n",
       "  </thead>\n",
       "  <tbody>\n",
       "    <tr>\n",
       "      <th>Adairialis76</th>\n",
       "      <td>1</td>\n",
       "      <td>2.28</td>\n",
       "      <td>2.28</td>\n",
       "    </tr>\n",
       "    <tr>\n",
       "      <th>Adastirin33</th>\n",
       "      <td>1</td>\n",
       "      <td>4.48</td>\n",
       "      <td>4.48</td>\n",
       "    </tr>\n",
       "    <tr>\n",
       "      <th>Aeda94</th>\n",
       "      <td>1</td>\n",
       "      <td>4.91</td>\n",
       "      <td>4.91</td>\n",
       "    </tr>\n",
       "    <tr>\n",
       "      <th>Aela59</th>\n",
       "      <td>1</td>\n",
       "      <td>4.32</td>\n",
       "      <td>4.32</td>\n",
       "    </tr>\n",
       "    <tr>\n",
       "      <th>Aelaria33</th>\n",
       "      <td>1</td>\n",
       "      <td>1.79</td>\n",
       "      <td>1.79</td>\n",
       "    </tr>\n",
       "  </tbody>\n",
       "</table>\n",
       "</div>"
      ],
      "text/plain": [
       "              Purchase Count  Average Purchase Price  Total Purchase Value\n",
       "Adairialis76               1                    2.28                  2.28\n",
       "Adastirin33                1                    4.48                  4.48\n",
       "Aeda94                     1                    4.91                  4.91\n",
       "Aela59                     1                    4.32                  4.32\n",
       "Aelaria33                  1                    1.79                  1.79"
      ]
     },
     "execution_count": 37,
     "metadata": {},
     "output_type": "execute_result"
    }
   ],
   "source": [
    "#create spender_df9 with df6, df7, df8\n",
    "\n",
    "df9 = pd.DataFrame({\"Purchase Count\": df6,\n",
    "                    \"Average Purchase Price\" : df8,\n",
    "                    \"Total Purchase Value\": df7})\n",
    "\n",
    "df9.head()"
   ]
  },
  {
   "cell_type": "code",
   "execution_count": 38,
   "metadata": {},
   "outputs": [
    {
     "data": {
      "text/html": [
       "<div>\n",
       "<style scoped>\n",
       "    .dataframe tbody tr th:only-of-type {\n",
       "        vertical-align: middle;\n",
       "    }\n",
       "\n",
       "    .dataframe tbody tr th {\n",
       "        vertical-align: top;\n",
       "    }\n",
       "\n",
       "    .dataframe thead th {\n",
       "        text-align: right;\n",
       "    }\n",
       "</style>\n",
       "<table border=\"1\" class=\"dataframe\">\n",
       "  <thead>\n",
       "    <tr style=\"text-align: right;\">\n",
       "      <th></th>\n",
       "      <th>Purchase Count</th>\n",
       "      <th>Average Purchase Price</th>\n",
       "      <th>Total Purchase Value</th>\n",
       "    </tr>\n",
       "  </thead>\n",
       "  <tbody>\n",
       "    <tr>\n",
       "      <th>Lisosia93</th>\n",
       "      <td>5</td>\n",
       "      <td>3.792000</td>\n",
       "      <td>18.96</td>\n",
       "    </tr>\n",
       "    <tr>\n",
       "      <th>Idastidru52</th>\n",
       "      <td>4</td>\n",
       "      <td>3.862500</td>\n",
       "      <td>15.45</td>\n",
       "    </tr>\n",
       "    <tr>\n",
       "      <th>Chamjask73</th>\n",
       "      <td>3</td>\n",
       "      <td>4.610000</td>\n",
       "      <td>13.83</td>\n",
       "    </tr>\n",
       "    <tr>\n",
       "      <th>Iral74</th>\n",
       "      <td>4</td>\n",
       "      <td>3.405000</td>\n",
       "      <td>13.62</td>\n",
       "    </tr>\n",
       "    <tr>\n",
       "      <th>Iskadarya95</th>\n",
       "      <td>3</td>\n",
       "      <td>4.366667</td>\n",
       "      <td>13.10</td>\n",
       "    </tr>\n",
       "  </tbody>\n",
       "</table>\n",
       "</div>"
      ],
      "text/plain": [
       "             Purchase Count  Average Purchase Price  Total Purchase Value\n",
       "Lisosia93                 5                3.792000                 18.96\n",
       "Idastidru52               4                3.862500                 15.45\n",
       "Chamjask73                3                4.610000                 13.83\n",
       "Iral74                    4                3.405000                 13.62\n",
       "Iskadarya95               3                4.366667                 13.10"
      ]
     },
     "execution_count": 38,
     "metadata": {},
     "output_type": "execute_result"
    }
   ],
   "source": [
    "# Identify the the top 5 spenders in the game by total purchase value\n",
    "\n",
    "Top_five_spenders = df9.sort_values([\"Total Purchase Value\"], ascending=False)\n",
    "Top_five_spenders.head()\n"
   ]
  },
  {
   "cell_type": "code",
   "execution_count": 39,
   "metadata": {},
   "outputs": [
    {
     "data": {
      "text/html": [
       "<div>\n",
       "<style scoped>\n",
       "    .dataframe tbody tr th:only-of-type {\n",
       "        vertical-align: middle;\n",
       "    }\n",
       "\n",
       "    .dataframe tbody tr th {\n",
       "        vertical-align: top;\n",
       "    }\n",
       "\n",
       "    .dataframe thead th {\n",
       "        text-align: right;\n",
       "    }\n",
       "</style>\n",
       "<table border=\"1\" class=\"dataframe\">\n",
       "  <thead>\n",
       "    <tr style=\"text-align: right;\">\n",
       "      <th></th>\n",
       "      <th></th>\n",
       "      <th>Purchase Count</th>\n",
       "      <th>Item Price</th>\n",
       "      <th>Total Purchase Value</th>\n",
       "    </tr>\n",
       "    <tr>\n",
       "      <th>Item ID</th>\n",
       "      <th>Item Name</th>\n",
       "      <th></th>\n",
       "      <th></th>\n",
       "      <th></th>\n",
       "    </tr>\n",
       "  </thead>\n",
       "  <tbody>\n",
       "    <tr>\n",
       "      <th>0</th>\n",
       "      <th>Splinter</th>\n",
       "      <td>4</td>\n",
       "      <td>1.28</td>\n",
       "      <td>5.12</td>\n",
       "    </tr>\n",
       "    <tr>\n",
       "      <th>1</th>\n",
       "      <th>Crucifer</th>\n",
       "      <td>3</td>\n",
       "      <td>3.26</td>\n",
       "      <td>9.78</td>\n",
       "    </tr>\n",
       "    <tr>\n",
       "      <th>2</th>\n",
       "      <th>Verdict</th>\n",
       "      <td>6</td>\n",
       "      <td>2.48</td>\n",
       "      <td>14.88</td>\n",
       "    </tr>\n",
       "    <tr>\n",
       "      <th>3</th>\n",
       "      <th>Phantomlight</th>\n",
       "      <td>6</td>\n",
       "      <td>2.49</td>\n",
       "      <td>14.94</td>\n",
       "    </tr>\n",
       "    <tr>\n",
       "      <th>4</th>\n",
       "      <th>Bloodlord's Fetish</th>\n",
       "      <td>5</td>\n",
       "      <td>1.70</td>\n",
       "      <td>8.50</td>\n",
       "    </tr>\n",
       "  </tbody>\n",
       "</table>\n",
       "</div>"
      ],
      "text/plain": [
       "                            Purchase Count  Item Price  Total Purchase Value\n",
       "Item ID Item Name                                                           \n",
       "0       Splinter                         4        1.28                  5.12\n",
       "1       Crucifer                         3        3.26                  9.78\n",
       "2       Verdict                          6        2.48                 14.88\n",
       "3       Phantomlight                     6        2.49                 14.94\n",
       "4       Bloodlord's Fetish               5        1.70                  8.50"
      ]
     },
     "execution_count": 39,
     "metadata": {},
     "output_type": "execute_result"
    }
   ],
   "source": [
    "# MOST POPULAR item analysis\n",
    "\n",
    "# Purchase Count\n",
    "df10 = pymoli_df.groupby([\"Item ID\", \"Item Name\"])[\"SN\"].count()\n",
    "\n",
    "#Item Price\n",
    "df11 = pymoli_df.groupby([\"Item ID\", \"Item Name\"])[\"Price\"].mean()\n",
    "\n",
    "#Total Purchase Value\n",
    "df12 = pymoli_df.groupby([\"Item ID\", \"Item Name\"])[\"Price\"].sum()\n",
    "\n",
    "# Convert to DataFrame\n",
    "\n",
    "df13 = pd.DataFrame({\"Purchase Count\":df10,\n",
    "                     \"Item Price\":df11,\n",
    "                     \"Total Purchase Value\":df12,\n",
    "                    })\n",
    "\n",
    "df13.head()"
   ]
  },
  {
   "cell_type": "code",
   "execution_count": 40,
   "metadata": {},
   "outputs": [
    {
     "data": {
      "text/html": [
       "<div>\n",
       "<style scoped>\n",
       "    .dataframe tbody tr th:only-of-type {\n",
       "        vertical-align: middle;\n",
       "    }\n",
       "\n",
       "    .dataframe tbody tr th {\n",
       "        vertical-align: top;\n",
       "    }\n",
       "\n",
       "    .dataframe thead th {\n",
       "        text-align: right;\n",
       "    }\n",
       "</style>\n",
       "<table border=\"1\" class=\"dataframe\">\n",
       "  <thead>\n",
       "    <tr style=\"text-align: right;\">\n",
       "      <th></th>\n",
       "      <th></th>\n",
       "      <th>Purchase Count</th>\n",
       "      <th>Item Price</th>\n",
       "      <th>Total Purchase Value</th>\n",
       "    </tr>\n",
       "    <tr>\n",
       "      <th>Item ID</th>\n",
       "      <th>Item Name</th>\n",
       "      <th></th>\n",
       "      <th></th>\n",
       "      <th></th>\n",
       "    </tr>\n",
       "  </thead>\n",
       "  <tbody>\n",
       "    <tr>\n",
       "      <th>178</th>\n",
       "      <th>Oathbreaker, Last Hope of the Breaking Storm</th>\n",
       "      <td>12</td>\n",
       "      <td>4.23</td>\n",
       "      <td>50.76</td>\n",
       "    </tr>\n",
       "    <tr>\n",
       "      <th>145</th>\n",
       "      <th>Fiery Glass Crusader</th>\n",
       "      <td>9</td>\n",
       "      <td>4.58</td>\n",
       "      <td>41.22</td>\n",
       "    </tr>\n",
       "    <tr>\n",
       "      <th>108</th>\n",
       "      <th>Extraction, Quickblade Of Trembling Hands</th>\n",
       "      <td>9</td>\n",
       "      <td>3.53</td>\n",
       "      <td>31.77</td>\n",
       "    </tr>\n",
       "    <tr>\n",
       "      <th>82</th>\n",
       "      <th>Nirvana</th>\n",
       "      <td>9</td>\n",
       "      <td>4.90</td>\n",
       "      <td>44.10</td>\n",
       "    </tr>\n",
       "    <tr>\n",
       "      <th>19</th>\n",
       "      <th>Pursuit, Cudgel of Necromancy</th>\n",
       "      <td>8</td>\n",
       "      <td>1.02</td>\n",
       "      <td>8.16</td>\n",
       "    </tr>\n",
       "  </tbody>\n",
       "</table>\n",
       "</div>"
      ],
      "text/plain": [
       "                                                      Purchase Count  \\\n",
       "Item ID Item Name                                                      \n",
       "178     Oathbreaker, Last Hope of the Breaking Storm              12   \n",
       "145     Fiery Glass Crusader                                       9   \n",
       "108     Extraction, Quickblade Of Trembling Hands                  9   \n",
       "82      Nirvana                                                    9   \n",
       "19      Pursuit, Cudgel of Necromancy                              8   \n",
       "\n",
       "                                                      Item Price  \\\n",
       "Item ID Item Name                                                  \n",
       "178     Oathbreaker, Last Hope of the Breaking Storm        4.23   \n",
       "145     Fiery Glass Crusader                                4.58   \n",
       "108     Extraction, Quickblade Of Trembling Hands           3.53   \n",
       "82      Nirvana                                             4.90   \n",
       "19      Pursuit, Cudgel of Necromancy                       1.02   \n",
       "\n",
       "                                                      Total Purchase Value  \n",
       "Item ID Item Name                                                           \n",
       "178     Oathbreaker, Last Hope of the Breaking Storm                 50.76  \n",
       "145     Fiery Glass Crusader                                         41.22  \n",
       "108     Extraction, Quickblade Of Trembling Hands                    31.77  \n",
       "82      Nirvana                                                      44.10  \n",
       "19      Pursuit, Cudgel of Necromancy                                 8.16  "
      ]
     },
     "execution_count": 40,
     "metadata": {},
     "output_type": "execute_result"
    }
   ],
   "source": [
    "Most_Popular_items = df13.sort_values([\"Purchase Count\"], ascending=False)\n",
    "Most_Popular_items.head()"
   ]
  },
  {
   "cell_type": "code",
   "execution_count": 41,
   "metadata": {},
   "outputs": [
    {
     "data": {
      "text/html": [
       "<div>\n",
       "<style scoped>\n",
       "    .dataframe tbody tr th:only-of-type {\n",
       "        vertical-align: middle;\n",
       "    }\n",
       "\n",
       "    .dataframe tbody tr th {\n",
       "        vertical-align: top;\n",
       "    }\n",
       "\n",
       "    .dataframe thead th {\n",
       "        text-align: right;\n",
       "    }\n",
       "</style>\n",
       "<table border=\"1\" class=\"dataframe\">\n",
       "  <thead>\n",
       "    <tr style=\"text-align: right;\">\n",
       "      <th></th>\n",
       "      <th></th>\n",
       "      <th>Purchase Count</th>\n",
       "      <th>Item Price</th>\n",
       "      <th>Total Purchase Value</th>\n",
       "    </tr>\n",
       "    <tr>\n",
       "      <th>Item ID</th>\n",
       "      <th>Item Name</th>\n",
       "      <th></th>\n",
       "      <th></th>\n",
       "      <th></th>\n",
       "    </tr>\n",
       "  </thead>\n",
       "  <tbody>\n",
       "    <tr>\n",
       "      <th>178</th>\n",
       "      <th>Oathbreaker, Last Hope of the Breaking Storm</th>\n",
       "      <td>12</td>\n",
       "      <td>4.23</td>\n",
       "      <td>50.76</td>\n",
       "    </tr>\n",
       "    <tr>\n",
       "      <th>82</th>\n",
       "      <th>Nirvana</th>\n",
       "      <td>9</td>\n",
       "      <td>4.90</td>\n",
       "      <td>44.10</td>\n",
       "    </tr>\n",
       "    <tr>\n",
       "      <th>145</th>\n",
       "      <th>Fiery Glass Crusader</th>\n",
       "      <td>9</td>\n",
       "      <td>4.58</td>\n",
       "      <td>41.22</td>\n",
       "    </tr>\n",
       "    <tr>\n",
       "      <th>92</th>\n",
       "      <th>Final Critic</th>\n",
       "      <td>8</td>\n",
       "      <td>4.88</td>\n",
       "      <td>39.04</td>\n",
       "    </tr>\n",
       "    <tr>\n",
       "      <th>103</th>\n",
       "      <th>Singed Scalpel</th>\n",
       "      <td>8</td>\n",
       "      <td>4.35</td>\n",
       "      <td>34.80</td>\n",
       "    </tr>\n",
       "  </tbody>\n",
       "</table>\n",
       "</div>"
      ],
      "text/plain": [
       "                                                      Purchase Count  \\\n",
       "Item ID Item Name                                                      \n",
       "178     Oathbreaker, Last Hope of the Breaking Storm              12   \n",
       "82      Nirvana                                                    9   \n",
       "145     Fiery Glass Crusader                                       9   \n",
       "92      Final Critic                                               8   \n",
       "103     Singed Scalpel                                             8   \n",
       "\n",
       "                                                      Item Price  \\\n",
       "Item ID Item Name                                                  \n",
       "178     Oathbreaker, Last Hope of the Breaking Storm        4.23   \n",
       "82      Nirvana                                             4.90   \n",
       "145     Fiery Glass Crusader                                4.58   \n",
       "92      Final Critic                                        4.88   \n",
       "103     Singed Scalpel                                      4.35   \n",
       "\n",
       "                                                      Total Purchase Value  \n",
       "Item ID Item Name                                                           \n",
       "178     Oathbreaker, Last Hope of the Breaking Storm                 50.76  \n",
       "82      Nirvana                                                      44.10  \n",
       "145     Fiery Glass Crusader                                         41.22  \n",
       "92      Final Critic                                                 39.04  \n",
       "103     Singed Scalpel                                               34.80  "
      ]
     },
     "execution_count": 41,
     "metadata": {},
     "output_type": "execute_result"
    }
   ],
   "source": [
    "Most_Profitable_items = df13.sort_values([\"Total Purchase Value\"], ascending=False)\n",
    "Most_Profitable_items.head()"
   ]
  },
  {
   "cell_type": "code",
   "execution_count": 42,
   "metadata": {},
   "outputs": [],
   "source": [
    "### Three observable trends based on the data:\n",
    "\n",
    "# * Most Players are Male and most purchases are made by Male; they contributed to almost 83% of revenue. \n",
    "# * Most players and buyers are in age group range 20-24 years; almost 63.4% of total players are in this age group.\n",
    "# * Most popular item was also the most profitable item, \"Oathbreaker, Last Hope of the Breaking Storm\"\n"
   ]
  }
 ],
 "metadata": {
  "kernelspec": {
   "display_name": "Python 3",
   "language": "python",
   "name": "python3"
  },
  "language_info": {
   "codemirror_mode": {
    "name": "ipython",
    "version": 3
   },
   "file_extension": ".py",
   "mimetype": "text/x-python",
   "name": "python",
   "nbconvert_exporter": "python",
   "pygments_lexer": "ipython3",
   "version": "3.6.5"
  }
 },
 "nbformat": 4,
 "nbformat_minor": 2
}
